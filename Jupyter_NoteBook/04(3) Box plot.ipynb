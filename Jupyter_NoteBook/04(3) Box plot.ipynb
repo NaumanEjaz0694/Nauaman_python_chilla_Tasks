{
 "cells": [
  {
   "cell_type": "code",
   "execution_count": 1,
   "id": "educational-letters",
   "metadata": {},
   "outputs": [],
   "source": [
    "# Importing libraries\n",
    "#Canvas (Baloon Board)"
   ]
  },
  {
   "cell_type": "code",
   "execution_count": 2,
   "id": "atlantic-latvia",
   "metadata": {},
   "outputs": [
    {
     "data": {
      "text/plain": [
       "<AxesSubplot:xlabel='class', ylabel='fare'>"
      ]
     },
     "execution_count": 2,
     "metadata": {},
     "output_type": "execute_result"
    },
    {
     "data": {
      "image/png": "[encoded data removed]",
      "text/plain": [
       "<Figure size 432x288 with 1 Axes>"
      ]
     },
     "metadata": {},
     "output_type": "display_data"
    }
   ],
   "source": [
    "import seaborn as sns \n",
    "sns.set(style='whitegrid')\n",
    "kashti = sns.load_dataset('titanic')\n",
    "sns.boxplot(x='class',y='fare',data=kashti)"
   ]
  },
  {
   "cell_type": "code",
   "execution_count": 3,
   "id": "sweet-farming",
   "metadata": {},
   "outputs": [
    {
     "data": {
      "text/html": [
       "<div>\n",
       "<style scoped>\n",
       "    .dataframe tbody tr th:only-of-type {\n",
       "        vertical-align: middle;\n",
       "    }\n",
       "\n",
       "    .dataframe tbody tr th {\n",
       "        vertical-align: top;\n",
       "    }\n",
       "\n",
       "    .dataframe thead th {\n",
       "        text-align: right;\n",
       "    }\n",
       "</style>\n",
       "<table border=\"1\" class=\"dataframe\">\n",
       "  <thead>\n",
       "    <tr style=\"text-align: right;\">\n",
       "      <th></th>\n",
       "      <th>total_bill</th>\n",
       "      <th>tip</th>\n",
       "      <th>sex</th>\n",
       "      <th>smoker</th>\n",
       "      <th>day</th>\n",
       "      <th>time</th>\n",
       "      <th>size</th>\n",
       "    </tr>\n",
       "  </thead>\n",
       "  <tbody>\n",
       "    <tr>\n",
       "      <th>0</th>\n",
       "      <td>16.99</td>\n",
       "      <td>1.01</td>\n",
       "      <td>Female</td>\n",
       "      <td>No</td>\n",
       "      <td>Sun</td>\n",
       "      <td>Dinner</td>\n",
       "      <td>2</td>\n",
       "    </tr>\n",
       "    <tr>\n",
       "      <th>1</th>\n",
       "      <td>10.34</td>\n",
       "      <td>1.66</td>\n",
       "      <td>Male</td>\n",
       "      <td>No</td>\n",
       "      <td>Sun</td>\n",
       "      <td>Dinner</td>\n",
       "      <td>3</td>\n",
       "    </tr>\n",
       "    <tr>\n",
       "      <th>2</th>\n",
       "      <td>21.01</td>\n",
       "      <td>3.50</td>\n",
       "      <td>Male</td>\n",
       "      <td>No</td>\n",
       "      <td>Sun</td>\n",
       "      <td>Dinner</td>\n",
       "      <td>3</td>\n",
       "    </tr>\n",
       "    <tr>\n",
       "      <th>3</th>\n",
       "      <td>23.68</td>\n",
       "      <td>3.31</td>\n",
       "      <td>Male</td>\n",
       "      <td>No</td>\n",
       "      <td>Sun</td>\n",
       "      <td>Dinner</td>\n",
       "      <td>2</td>\n",
       "    </tr>\n",
       "    <tr>\n",
       "      <th>4</th>\n",
       "      <td>24.59</td>\n",
       "      <td>3.61</td>\n",
       "      <td>Female</td>\n",
       "      <td>No</td>\n",
       "      <td>Sun</td>\n",
       "      <td>Dinner</td>\n",
       "      <td>4</td>\n",
       "    </tr>\n",
       "    <tr>\n",
       "      <th>...</th>\n",
       "      <td>...</td>\n",
       "      <td>...</td>\n",
       "      <td>...</td>\n",
       "      <td>...</td>\n",
       "      <td>...</td>\n",
       "      <td>...</td>\n",
       "      <td>...</td>\n",
       "    </tr>\n",
       "    <tr>\n",
       "      <th>239</th>\n",
       "      <td>29.03</td>\n",
       "      <td>5.92</td>\n",
       "      <td>Male</td>\n",
       "      <td>No</td>\n",
       "      <td>Sat</td>\n",
       "      <td>Dinner</td>\n",
       "      <td>3</td>\n",
       "    </tr>\n",
       "    <tr>\n",
       "      <th>240</th>\n",
       "      <td>27.18</td>\n",
       "      <td>2.00</td>\n",
       "      <td>Female</td>\n",
       "      <td>Yes</td>\n",
       "      <td>Sat</td>\n",
       "      <td>Dinner</td>\n",
       "      <td>2</td>\n",
       "    </tr>\n",
       "    <tr>\n",
       "      <th>241</th>\n",
       "      <td>22.67</td>\n",
       "      <td>2.00</td>\n",
       "      <td>Male</td>\n",
       "      <td>Yes</td>\n",
       "      <td>Sat</td>\n",
       "      <td>Dinner</td>\n",
       "      <td>2</td>\n",
       "    </tr>\n",
       "    <tr>\n",
       "      <th>242</th>\n",
       "      <td>17.82</td>\n",
       "      <td>1.75</td>\n",
       "      <td>Male</td>\n",
       "      <td>No</td>\n",
       "      <td>Sat</td>\n",
       "      <td>Dinner</td>\n",
       "      <td>2</td>\n",
       "    </tr>\n",
       "    <tr>\n",
       "      <th>243</th>\n",
       "      <td>18.78</td>\n",
       "      <td>3.00</td>\n",
       "      <td>Female</td>\n",
       "      <td>No</td>\n",
       "      <td>Thur</td>\n",
       "      <td>Dinner</td>\n",
       "      <td>2</td>\n",
       "    </tr>\n",
       "  </tbody>\n",
       "</table>\n",
       "<p>244 rows × 7 columns</p>\n",
       "</div>"
      ],
      "text/plain": [
       "     total_bill   tip     sex smoker   day    time  size\n",
       "0         16.99  1.01  Female     No   Sun  Dinner     2\n",
       "1         10.34  1.66    Male     No   Sun  Dinner     3\n",
       "2         21.01  3.50    Male     No   Sun  Dinner     3\n",
       "3         23.68  3.31    Male     No   Sun  Dinner     2\n",
       "4         24.59  3.61  Female     No   Sun  Dinner     4\n",
       "..          ...   ...     ...    ...   ...     ...   ...\n",
       "239       29.03  5.92    Male     No   Sat  Dinner     3\n",
       "240       27.18  2.00  Female    Yes   Sat  Dinner     2\n",
       "241       22.67  2.00    Male    Yes   Sat  Dinner     2\n",
       "242       17.82  1.75    Male     No   Sat  Dinner     2\n",
       "243       18.78  3.00  Female     No  Thur  Dinner     2\n",
       "\n",
       "[244 rows x 7 columns]"
      ]
     },
     "execution_count": 3,
     "metadata": {},
     "output_type": "execute_result"
    }
   ],
   "source": [
    " import seaborn as sns \n",
    "sns.set(style='whitegrid')\n",
    "tip=sns.load_dataset('tips')\n",
    "tip"
   ]
  },
  {
   "cell_type": "code",
   "execution_count": 4,
   "id": "cultural-cartridge",
   "metadata": {},
   "outputs": [
    {
     "data": {
      "text/plain": [
       "<AxesSubplot:xlabel='day', ylabel='total_bill'>"
      ]
     },
     "execution_count": 4,
     "metadata": {},
     "output_type": "execute_result"
    },
    {
     "data": {
      "image/png": "[encoded data removed]",
      "text/plain": [
       "<Figure size 432x288 with 1 Axes>"
      ]
     },
     "metadata": {},
     "output_type": "display_data"
    }
   ],
   "source": [
    " import seaborn as sns \n",
    "sns.set(style='whitegrid')\n",
    "tips=sns.load_dataset('tips')\n",
    "tips\n",
    "sns.boxplot(x='day',y='total_bill',data=tips,saturation=0.2)\n"
   ]
  },
  {
   "cell_type": "code",
   "execution_count": 5,
   "id": "enhanced-genetics",
   "metadata": {},
   "outputs": [
    {
     "data": {
      "text/html": [
       "<div>\n",
       "<style scoped>\n",
       "    .dataframe tbody tr th:only-of-type {\n",
       "        vertical-align: middle;\n",
       "    }\n",
       "\n",
       "    .dataframe tbody tr th {\n",
       "        vertical-align: top;\n",
       "    }\n",
       "\n",
       "    .dataframe thead th {\n",
       "        text-align: right;\n",
       "    }\n",
       "</style>\n",
       "<table border=\"1\" class=\"dataframe\">\n",
       "  <thead>\n",
       "    <tr style=\"text-align: right;\">\n",
       "      <th></th>\n",
       "      <th>total_bill</th>\n",
       "      <th>tip</th>\n",
       "      <th>size</th>\n",
       "    </tr>\n",
       "  </thead>\n",
       "  <tbody>\n",
       "    <tr>\n",
       "      <th>count</th>\n",
       "      <td>244.000000</td>\n",
       "      <td>244.000000</td>\n",
       "      <td>244.000000</td>\n",
       "    </tr>\n",
       "    <tr>\n",
       "      <th>mean</th>\n",
       "      <td>19.785943</td>\n",
       "      <td>2.998279</td>\n",
       "      <td>2.569672</td>\n",
       "    </tr>\n",
       "    <tr>\n",
       "      <th>std</th>\n",
       "      <td>8.902412</td>\n",
       "      <td>1.383638</td>\n",
       "      <td>0.951100</td>\n",
       "    </tr>\n",
       "    <tr>\n",
       "      <th>min</th>\n",
       "      <td>3.070000</td>\n",
       "      <td>1.000000</td>\n",
       "      <td>1.000000</td>\n",
       "    </tr>\n",
       "    <tr>\n",
       "      <th>25%</th>\n",
       "      <td>13.347500</td>\n",
       "      <td>2.000000</td>\n",
       "      <td>2.000000</td>\n",
       "    </tr>\n",
       "    <tr>\n",
       "      <th>50%</th>\n",
       "      <td>17.795000</td>\n",
       "      <td>2.900000</td>\n",
       "      <td>2.000000</td>\n",
       "    </tr>\n",
       "    <tr>\n",
       "      <th>75%</th>\n",
       "      <td>24.127500</td>\n",
       "      <td>3.562500</td>\n",
       "      <td>3.000000</td>\n",
       "    </tr>\n",
       "    <tr>\n",
       "      <th>max</th>\n",
       "      <td>50.810000</td>\n",
       "      <td>10.000000</td>\n",
       "      <td>6.000000</td>\n",
       "    </tr>\n",
       "  </tbody>\n",
       "</table>\n",
       "</div>"
      ],
      "text/plain": [
       "       total_bill         tip        size\n",
       "count  244.000000  244.000000  244.000000\n",
       "mean    19.785943    2.998279    2.569672\n",
       "std      8.902412    1.383638    0.951100\n",
       "min      3.070000    1.000000    1.000000\n",
       "25%     13.347500    2.000000    2.000000\n",
       "50%     17.795000    2.900000    2.000000\n",
       "75%     24.127500    3.562500    3.000000\n",
       "max     50.810000   10.000000    6.000000"
      ]
     },
     "execution_count": 5,
     "metadata": {},
     "output_type": "execute_result"
    }
   ],
   "source": [
    "import seaborn as sns\n",
    "import pandas as pd\n",
    "import numpy as np\n",
    "tip=sns.load_dataset('tips')\n",
    "tip.describe()"
   ]
  },
  {
   "cell_type": "code",
   "execution_count": 6,
   "id": "tired-particle",
   "metadata": {},
   "outputs": [
    {
     "data": {
      "text/plain": [
       "<AxesSubplot:xlabel='total_bill'>"
      ]
     },
     "execution_count": 6,
     "metadata": {},
     "output_type": "execute_result"
    },
    {
     "data": {
      "image/png": "[encoded data removed]",
      "text/plain": [
       "<Figure size 432x288 with 1 Axes>"
      ]
     },
     "metadata": {},
     "output_type": "display_data"
    }
   ],
   "source": [
    "import seaborn as sns\n",
    "sns.set(style='whitegrid')\n",
    "tip=sns.load_dataset('tips')\n",
    "sns.boxplot(x=tip['total_bill'])"
   ]
  },
  {
   "cell_type": "code",
   "execution_count": 7,
   "id": "developed-karaoke",
   "metadata": {},
   "outputs": [
    {
     "data": {
      "text/plain": [
       "<AxesSubplot:ylabel='total_bill'>"
      ]
     },
     "execution_count": 7,
     "metadata": {},
     "output_type": "execute_result"
    },
    {
     "data": {
      "image/png": "[encoded data removed]",
      "text/plain": [
       "<Figure size 432x288 with 1 Axes>"
      ]
     },
     "metadata": {},
     "output_type": "display_data"
    }
   ],
   "source": [
    "import seaborn as sns\n",
    "sns.set(style='whitegrid')\n",
    "tip=sns.load_dataset('tips')\n",
    "sns.boxplot(y=tip['total_bill'])"
   ]
  },
  {
   "cell_type": "code",
   "execution_count": 8,
   "id": "pregnant-ocean",
   "metadata": {},
   "outputs": [
    {
     "data": {
      "text/plain": [
       "<AxesSubplot:xlabel='total_bill', ylabel='day'>"
      ]
     },
     "execution_count": 8,
     "metadata": {},
     "output_type": "execute_result"
    },
    {
     "data": {
      "image/png": "[encoded data removed]",
      "text/plain": [
       "<Figure size 432x288 with 1 Axes>"
      ]
     },
     "metadata": {},
     "output_type": "display_data"
    }
   ],
   "source": [
    " import seaborn as sns \n",
    "sns.set(style='whitegrid')\n",
    "tips=sns.load_dataset('tips')\n",
    "tips\n",
    "sns.boxplot(x='total_bill',y='day',data=tips)"
   ]
  },
  {
   "cell_type": "code",
   "execution_count": 9,
   "id": "separate-charity",
   "metadata": {},
   "outputs": [
    {
     "data": {
      "text/plain": [
       "<AxesSubplot:xlabel='total_bill', ylabel='day'>"
      ]
     },
     "execution_count": 9,
     "metadata": {},
     "output_type": "execute_result"
    },
    {
     "data": {
      "image/png": "[encoded data removed]",
      "text/plain": [
       "<Figure size 432x288 with 1 Axes>"
      ]
     },
     "metadata": {},
     "output_type": "display_data"
    }
   ],
   "source": [
    " import seaborn as sns \n",
    "sns.set(style='whitegrid')\n",
    "tips=sns.load_dataset('tips')\n",
    "tips\n",
    "sns.boxplot(x='total_bill',y='day',hue='day',data=tips)"
   ]
  },
  {
   "cell_type": "code",
   "execution_count": 10,
   "id": "loaded-southeast",
   "metadata": {},
   "outputs": [
    {
     "data": {
      "text/plain": [
       "<AxesSubplot:xlabel='total_bill', ylabel='day'>"
      ]
     },
     "execution_count": 10,
     "metadata": {},
     "output_type": "execute_result"
    },
    {
     "data": {
      "image/png": "[encoded data removed]",
      "text/plain": [
       "<Figure size 432x288 with 1 Axes>"
      ]
     },
     "metadata": {},
     "output_type": "display_data"
    }
   ],
   "source": [
    " import seaborn as sns \n",
    "sns.set(style='whitegrid')\n",
    "tips=sns.load_dataset('tips')\n",
    "tips\n",
    "sns.boxplot(x='total_bill',y='day',hue='sex',data=tips)"
   ]
  },
  {
   "cell_type": "code",
   "execution_count": 11,
   "id": "productive-czech",
   "metadata": {},
   "outputs": [
    {
     "data": {
      "text/plain": [
       "<AxesSubplot:xlabel='total_bill', ylabel='day'>"
      ]
     },
     "execution_count": 11,
     "metadata": {},
     "output_type": "execute_result"
    },
    {
     "data": {
      "image/png": "[encoded data removed]",
      "text/plain": [
       "<Figure size 432x288 with 1 Axes>"
      ]
     },
     "metadata": {},
     "output_type": "display_data"
    }
   ],
   "source": [
    " import seaborn as sns \n",
    "sns.set(style='whitegrid')\n",
    "tips=sns.load_dataset('tips')\n",
    "tips\n",
    "sns.boxplot(x='total_bill',y='day',hue='sex',data=tips,palette='Set2',dodge=True)"
   ]
  },
  {
   "cell_type": "markdown",
   "id": "sensitive-market",
   "metadata": {},
   "source": [
    "### How to change color of boxplot"
   ]
  },
  {
   "cell_type": "code",
   "execution_count": 12,
   "id": "placed-scoop",
   "metadata": {},
   "outputs": [
    {
     "data": {
      "text/plain": [
       "<AxesSubplot:xlabel='total_bill', ylabel='day'>"
      ]
     },
     "execution_count": 12,
     "metadata": {},
     "output_type": "execute_result"
    },
    {
     "data": {
      "image/png": "[encoded data removed]",
      "text/plain": [
       "<Figure size 432x288 with 1 Axes>"
      ]
     },
     "metadata": {},
     "output_type": "display_data"
    }
   ],
   "source": [
    " import seaborn as sns \n",
    "sns.set(style='whitegrid')\n",
    "tips=sns.load_dataset('tips')\n",
    "tips\n",
    "my_pal = {\"Male\": \"g\", \"Female\": \"r\"}\n",
    "sns.boxplot(x='total_bill',y='day',hue='sex',data=tips,palette=my_pal)"
   ]
  },
  {
   "cell_type": "markdown",
   "id": "dried-record",
   "metadata": {},
   "source": [
    "### How to select color of your choice (https://www.color-hex.com/)"
   ]
  },
  {
   "cell_type": "code",
   "execution_count": 13,
   "id": "italian-healing",
   "metadata": {},
   "outputs": [
    {
     "data": {
      "text/plain": [
       "<AxesSubplot:xlabel='total_bill', ylabel='day'>"
      ]
     },
     "execution_count": 13,
     "metadata": {},
     "output_type": "execute_result"
    },
    {
     "data": {
      "image/png": "[encoded data removed]",
      "text/plain": [
       "<Figure size 432x288 with 1 Axes>"
      ]
     },
     "metadata": {},
     "output_type": "display_data"
    }
   ],
   "source": [
    " import seaborn as sns \n",
    "sns.set(style='whitegrid')\n",
    "tips=sns.load_dataset('tips')\n",
    "tips\n",
    "my_pal = {\"Male\": \"#ad917e\", \"Female\": \"#ddf0b2\"}\n",
    "sns.boxplot(x='total_bill',y='day',hue='sex',data=tips,palette=my_pal)"
   ]
  },
  {
   "cell_type": "markdown",
   "id": "silent-selling",
   "metadata": {},
   "source": [
    "# Work on the Excel Sheet"
   ]
  },
  {
   "cell_type": "code",
   "execution_count": 14,
   "id": "humanitarian-california",
   "metadata": {},
   "outputs": [],
   "source": [
    "import pandas as pd"
   ]
  },
  {
   "cell_type": "markdown",
   "id": "prepared-advocacy",
   "metadata": {},
   "source": [
    "### How to import Csv or excel file you have to first import pandas as pd and then write funciton (read.csv or read.excel)"
   ]
  },
  {
   "cell_type": "code",
   "execution_count": 15,
   "id": "exact-filename",
   "metadata": {},
   "outputs": [
    {
     "data": {
      "text/html": [
       "<div>\n",
       "<style scoped>\n",
       "    .dataframe tbody tr th:only-of-type {\n",
       "        vertical-align: middle;\n",
       "    }\n",
       "\n",
       "    .dataframe tbody tr th {\n",
       "        vertical-align: top;\n",
       "    }\n",
       "\n",
       "    .dataframe thead th {\n",
       "        text-align: right;\n",
       "    }\n",
       "</style>\n",
       "<table border=\"1\" class=\"dataframe\">\n",
       "  <thead>\n",
       "    <tr style=\"text-align: right;\">\n",
       "      <th></th>\n",
       "      <th>Gender</th>\n",
       "      <th>Location</th>\n",
       "      <th>Age</th>\n",
       "      <th>Qualification_completed</th>\n",
       "      <th>field_of_study</th>\n",
       "      <th>Purpose_for_chilla</th>\n",
       "      <th>What are you?</th>\n",
       "      <th>Blood group</th>\n",
       "      <th>Which mobile sim do you use</th>\n",
       "      <th>Prepaid or Postpaid</th>\n",
       "      <th>...</th>\n",
       "      <th>Your favorite programming language?</th>\n",
       "      <th>Marital Status?</th>\n",
       "      <th>Are you Vaccinated?</th>\n",
       "      <th>Where do you live?</th>\n",
       "      <th>Research/Working experience (Float/Int) years</th>\n",
       "      <th>Age (years)-Float/Int</th>\n",
       "      <th>Your Weight in kg? (float)</th>\n",
       "      <th>Height in cm? Freelancer- (Float)</th>\n",
       "      <th>How many hours you code a day? (int) e.g: 5,4,3</th>\n",
       "      <th>Light kitni der band hti hy? int</th>\n",
       "    </tr>\n",
       "  </thead>\n",
       "  <tbody>\n",
       "    <tr>\n",
       "      <th>0</th>\n",
       "      <td>Male</td>\n",
       "      <td>Pakistan</td>\n",
       "      <td>36-40</td>\n",
       "      <td>Masters</td>\n",
       "      <td>Natural Sciences</td>\n",
       "      <td>to boost my skill set</td>\n",
       "      <td>Unemplyed</td>\n",
       "      <td>B+</td>\n",
       "      <td>U-fone</td>\n",
       "      <td>Prepaid</td>\n",
       "      <td>...</td>\n",
       "      <td>Python</td>\n",
       "      <td>Yes</td>\n",
       "      <td>Yes</td>\n",
       "      <td>Urbun</td>\n",
       "      <td>5</td>\n",
       "      <td>38.00</td>\n",
       "      <td>77.0</td>\n",
       "      <td>179.000</td>\n",
       "      <td>3.0</td>\n",
       "      <td>2.0</td>\n",
       "    </tr>\n",
       "    <tr>\n",
       "      <th>1</th>\n",
       "      <td>Male</td>\n",
       "      <td>Pakistan</td>\n",
       "      <td>26-30</td>\n",
       "      <td>Bachelors</td>\n",
       "      <td>CS/IT</td>\n",
       "      <td>to boost my skill set</td>\n",
       "      <td>Student</td>\n",
       "      <td>B+</td>\n",
       "      <td>U-fone</td>\n",
       "      <td>Prepaid</td>\n",
       "      <td>...</td>\n",
       "      <td>Python</td>\n",
       "      <td>No</td>\n",
       "      <td>Yes</td>\n",
       "      <td>Urbun</td>\n",
       "      <td>1</td>\n",
       "      <td>25.00</td>\n",
       "      <td>53.6</td>\n",
       "      <td>178.000</td>\n",
       "      <td>2.0</td>\n",
       "      <td>6.0</td>\n",
       "    </tr>\n",
       "    <tr>\n",
       "      <th>2</th>\n",
       "      <td>Male</td>\n",
       "      <td>Pakistan</td>\n",
       "      <td>31-35</td>\n",
       "      <td>Masters</td>\n",
       "      <td>Enginnering</td>\n",
       "      <td>Switch my field of study</td>\n",
       "      <td>Employed</td>\n",
       "      <td>B+</td>\n",
       "      <td>Zong</td>\n",
       "      <td>Prepaid</td>\n",
       "      <td>...</td>\n",
       "      <td>Python</td>\n",
       "      <td>Yes</td>\n",
       "      <td>Yes</td>\n",
       "      <td>Urbun</td>\n",
       "      <td>5.5</td>\n",
       "      <td>31.34</td>\n",
       "      <td>93.0</td>\n",
       "      <td>173.000</td>\n",
       "      <td>2.0</td>\n",
       "      <td>0.0</td>\n",
       "    </tr>\n",
       "    <tr>\n",
       "      <th>3</th>\n",
       "      <td>Female</td>\n",
       "      <td>Pakistan</td>\n",
       "      <td>31-35</td>\n",
       "      <td>Masters</td>\n",
       "      <td>CS/IT</td>\n",
       "      <td>to boost my skill set</td>\n",
       "      <td>Employed</td>\n",
       "      <td>O+</td>\n",
       "      <td>U-fone</td>\n",
       "      <td>Postpaid</td>\n",
       "      <td>...</td>\n",
       "      <td>Python</td>\n",
       "      <td>Yes</td>\n",
       "      <td>Yes</td>\n",
       "      <td>Urbun</td>\n",
       "      <td>5</td>\n",
       "      <td>33.00</td>\n",
       "      <td>60.0</td>\n",
       "      <td>157.000</td>\n",
       "      <td>3.0</td>\n",
       "      <td>24.0</td>\n",
       "    </tr>\n",
       "    <tr>\n",
       "      <th>4</th>\n",
       "      <td>Female</td>\n",
       "      <td>Pakistan</td>\n",
       "      <td>26-30</td>\n",
       "      <td>Masters</td>\n",
       "      <td>Enginnering</td>\n",
       "      <td>to boost my skill set</td>\n",
       "      <td>Student</td>\n",
       "      <td>A-</td>\n",
       "      <td>Mobilink</td>\n",
       "      <td>Prepaid</td>\n",
       "      <td>...</td>\n",
       "      <td>Javascript</td>\n",
       "      <td>No</td>\n",
       "      <td>Yes</td>\n",
       "      <td>Rural</td>\n",
       "      <td>3.5</td>\n",
       "      <td>27.00</td>\n",
       "      <td>59.9</td>\n",
       "      <td>164.544</td>\n",
       "      <td>6.0</td>\n",
       "      <td>12.0</td>\n",
       "    </tr>\n",
       "    <tr>\n",
       "      <th>...</th>\n",
       "      <td>...</td>\n",
       "      <td>...</td>\n",
       "      <td>...</td>\n",
       "      <td>...</td>\n",
       "      <td>...</td>\n",
       "      <td>...</td>\n",
       "      <td>...</td>\n",
       "      <td>...</td>\n",
       "      <td>...</td>\n",
       "      <td>...</td>\n",
       "      <td>...</td>\n",
       "      <td>...</td>\n",
       "      <td>...</td>\n",
       "      <td>...</td>\n",
       "      <td>...</td>\n",
       "      <td>...</td>\n",
       "      <td>...</td>\n",
       "      <td>...</td>\n",
       "      <td>...</td>\n",
       "      <td>...</td>\n",
       "      <td>...</td>\n",
       "    </tr>\n",
       "    <tr>\n",
       "      <th>370</th>\n",
       "      <td>Male</td>\n",
       "      <td>Pakistan</td>\n",
       "      <td>26-30</td>\n",
       "      <td>Masters</td>\n",
       "      <td>Enginnering</td>\n",
       "      <td>to boost my skill set</td>\n",
       "      <td>Employed</td>\n",
       "      <td>O+</td>\n",
       "      <td>Telenor</td>\n",
       "      <td>Prepaid</td>\n",
       "      <td>...</td>\n",
       "      <td>R</td>\n",
       "      <td>Yes</td>\n",
       "      <td>Yes</td>\n",
       "      <td>Rural</td>\n",
       "      <td>7</td>\n",
       "      <td>28.00</td>\n",
       "      <td>70.5</td>\n",
       "      <td>178.500</td>\n",
       "      <td>4.0</td>\n",
       "      <td>3.0</td>\n",
       "    </tr>\n",
       "    <tr>\n",
       "      <th>371</th>\n",
       "      <td>Male</td>\n",
       "      <td>Pakistan</td>\n",
       "      <td>31-35</td>\n",
       "      <td>Bachelors</td>\n",
       "      <td>Enginnering</td>\n",
       "      <td>to boost my skill set</td>\n",
       "      <td>Employed</td>\n",
       "      <td>A+</td>\n",
       "      <td>Zong</td>\n",
       "      <td>Postpaid</td>\n",
       "      <td>...</td>\n",
       "      <td>Python</td>\n",
       "      <td>Yes</td>\n",
       "      <td>Yes</td>\n",
       "      <td>Urbun</td>\n",
       "      <td>5</td>\n",
       "      <td>33.00</td>\n",
       "      <td>83.4</td>\n",
       "      <td>172.700</td>\n",
       "      <td>1.0</td>\n",
       "      <td>1.0</td>\n",
       "    </tr>\n",
       "    <tr>\n",
       "      <th>372</th>\n",
       "      <td>Male</td>\n",
       "      <td>Pakistan</td>\n",
       "      <td>21-25</td>\n",
       "      <td>Bachelors</td>\n",
       "      <td>CS/IT</td>\n",
       "      <td>to boost my skill set</td>\n",
       "      <td>Employed</td>\n",
       "      <td>O+</td>\n",
       "      <td>Mobilink</td>\n",
       "      <td>Prepaid</td>\n",
       "      <td>...</td>\n",
       "      <td>Python</td>\n",
       "      <td>No</td>\n",
       "      <td>Yes</td>\n",
       "      <td>Urbun</td>\n",
       "      <td>0</td>\n",
       "      <td>22.80</td>\n",
       "      <td>60.0</td>\n",
       "      <td>1.680</td>\n",
       "      <td>0.0</td>\n",
       "      <td>0.0</td>\n",
       "    </tr>\n",
       "    <tr>\n",
       "      <th>373</th>\n",
       "      <td>Male</td>\n",
       "      <td>Pakistan</td>\n",
       "      <td>26-30</td>\n",
       "      <td>Masters</td>\n",
       "      <td>Enginnering</td>\n",
       "      <td>to boost my skill set</td>\n",
       "      <td>Employed</td>\n",
       "      <td>B-</td>\n",
       "      <td>Mobilink</td>\n",
       "      <td>Prepaid</td>\n",
       "      <td>...</td>\n",
       "      <td>Python</td>\n",
       "      <td>No</td>\n",
       "      <td>No</td>\n",
       "      <td>Urbun</td>\n",
       "      <td>2</td>\n",
       "      <td>29.00</td>\n",
       "      <td>86.0</td>\n",
       "      <td>180.000</td>\n",
       "      <td>2.0</td>\n",
       "      <td>1.0</td>\n",
       "    </tr>\n",
       "    <tr>\n",
       "      <th>374</th>\n",
       "      <td>Female</td>\n",
       "      <td>Pakistan</td>\n",
       "      <td>31-35</td>\n",
       "      <td>Masters</td>\n",
       "      <td>Mathematics</td>\n",
       "      <td>Switch my field of study</td>\n",
       "      <td>Unemplyed</td>\n",
       "      <td>B+</td>\n",
       "      <td>Telenor</td>\n",
       "      <td>Prepaid</td>\n",
       "      <td>...</td>\n",
       "      <td>Python</td>\n",
       "      <td>Yes</td>\n",
       "      <td>Yes</td>\n",
       "      <td>Urbun</td>\n",
       "      <td>3</td>\n",
       "      <td>31.00</td>\n",
       "      <td>54.5</td>\n",
       "      <td>161.544</td>\n",
       "      <td>3.0</td>\n",
       "      <td>0.0</td>\n",
       "    </tr>\n",
       "  </tbody>\n",
       "</table>\n",
       "<p>375 rows × 23 columns</p>\n",
       "</div>"
      ],
      "text/plain": [
       "     Gender  Location    Age Qualification_completed    field_of_study  \\\n",
       "0      Male  Pakistan  36-40                 Masters  Natural Sciences   \n",
       "1      Male  Pakistan  26-30               Bachelors             CS/IT   \n",
       "2      Male  Pakistan  31-35                 Masters       Enginnering   \n",
       "3    Female  Pakistan  31-35                 Masters             CS/IT   \n",
       "4    Female  Pakistan  26-30                 Masters       Enginnering   \n",
       "..      ...       ...    ...                     ...               ...   \n",
       "370    Male  Pakistan  26-30                 Masters       Enginnering   \n",
       "371    Male  Pakistan  31-35               Bachelors       Enginnering   \n",
       "372    Male  Pakistan  21-25               Bachelors             CS/IT   \n",
       "373    Male  Pakistan  26-30                 Masters       Enginnering   \n",
       "374  Female  Pakistan  31-35                 Masters       Mathematics   \n",
       "\n",
       "           Purpose_for_chilla What are you? Blood group   \\\n",
       "0       to boost my skill set     Unemplyed           B+   \n",
       "1       to boost my skill set       Student           B+   \n",
       "2    Switch my field of study      Employed           B+   \n",
       "3       to boost my skill set      Employed           O+   \n",
       "4       to boost my skill set       Student           A-   \n",
       "..                        ...           ...          ...   \n",
       "370     to boost my skill set      Employed           O+   \n",
       "371     to boost my skill set      Employed           A+   \n",
       "372     to boost my skill set      Employed           O+   \n",
       "373     to boost my skill set      Employed           B-   \n",
       "374  Switch my field of study     Unemplyed           B+   \n",
       "\n",
       "    Which mobile sim do you use Prepaid or Postpaid  ...  \\\n",
       "0                        U-fone             Prepaid  ...   \n",
       "1                        U-fone             Prepaid  ...   \n",
       "2                          Zong             Prepaid  ...   \n",
       "3                        U-fone            Postpaid  ...   \n",
       "4                      Mobilink             Prepaid  ...   \n",
       "..                          ...                 ...  ...   \n",
       "370                     Telenor             Prepaid  ...   \n",
       "371                        Zong            Postpaid  ...   \n",
       "372                    Mobilink             Prepaid  ...   \n",
       "373                    Mobilink             Prepaid  ...   \n",
       "374                     Telenor             Prepaid  ...   \n",
       "\n",
       "    Your favorite programming language? Marital Status? Are you Vaccinated?  \\\n",
       "0                                Python             Yes                 Yes   \n",
       "1                                Python              No                 Yes   \n",
       "2                                Python             Yes                 Yes   \n",
       "3                                Python             Yes                 Yes   \n",
       "4                            Javascript              No                 Yes   \n",
       "..                                  ...             ...                 ...   \n",
       "370                                   R             Yes                 Yes   \n",
       "371                              Python             Yes                 Yes   \n",
       "372                              Python              No                 Yes   \n",
       "373                              Python              No                  No   \n",
       "374                              Python             Yes                 Yes   \n",
       "\n",
       "    Where do you live? Research/Working experience (Float/Int) years  \\\n",
       "0                Urbun                                             5   \n",
       "1                Urbun                                             1   \n",
       "2                Urbun                                           5.5   \n",
       "3                Urbun                                             5   \n",
       "4                Rural                                           3.5   \n",
       "..                 ...                                           ...   \n",
       "370              Rural                                             7   \n",
       "371              Urbun                                             5   \n",
       "372              Urbun                                             0   \n",
       "373              Urbun                                             2   \n",
       "374              Urbun                                             3   \n",
       "\n",
       "    Age (years)-Float/Int Your Weight in kg? (float)  \\\n",
       "0                   38.00                       77.0   \n",
       "1                   25.00                       53.6   \n",
       "2                   31.34                       93.0   \n",
       "3                   33.00                       60.0   \n",
       "4                   27.00                       59.9   \n",
       "..                    ...                        ...   \n",
       "370                 28.00                       70.5   \n",
       "371                 33.00                       83.4   \n",
       "372                 22.80                       60.0   \n",
       "373                 29.00                       86.0   \n",
       "374                 31.00                       54.5   \n",
       "\n",
       "    Height in cm? Freelancer- (Float)  \\\n",
       "0                             179.000   \n",
       "1                             178.000   \n",
       "2                             173.000   \n",
       "3                             157.000   \n",
       "4                             164.544   \n",
       "..                                ...   \n",
       "370                           178.500   \n",
       "371                           172.700   \n",
       "372                             1.680   \n",
       "373                           180.000   \n",
       "374                           161.544   \n",
       "\n",
       "     How many hours you code a day? (int) e.g: 5,4,3  \\\n",
       "0                                                3.0   \n",
       "1                                                2.0   \n",
       "2                                                2.0   \n",
       "3                                                3.0   \n",
       "4                                                6.0   \n",
       "..                                               ...   \n",
       "370                                              4.0   \n",
       "371                                              1.0   \n",
       "372                                              0.0   \n",
       "373                                              2.0   \n",
       "374                                              3.0   \n",
       "\n",
       "     Light kitni der band hti hy? int  \n",
       "0                                 2.0  \n",
       "1                                 6.0  \n",
       "2                                 0.0  \n",
       "3                                24.0  \n",
       "4                                12.0  \n",
       "..                                ...  \n",
       "370                               3.0  \n",
       "371                               1.0  \n",
       "372                               0.0  \n",
       "373                               1.0  \n",
       "374                               0.0  \n",
       "\n",
       "[375 rows x 23 columns]"
      ]
     },
     "execution_count": 15,
     "metadata": {},
     "output_type": "execute_result"
    }
   ],
   "source": [
    "df= pd.read_csv('Data/Chilla_data2.csv')\n",
    "df"
   ]
  },
  {
   "cell_type": "code",
   "execution_count": 16,
   "id": "grateful-biotechnology",
   "metadata": {},
   "outputs": [
    {
     "data": {
      "text/plain": [
       "Index(['Gender', 'Location', 'Age', 'Qualification_completed',\n",
       "       'field_of_study', 'Purpose_for_chilla', 'What are you?', 'Blood group ',\n",
       "       'Which mobile sim do you use', 'Prepaid or Postpaid',\n",
       "       'Which PC are you using?', 'Do you wear glasses?',\n",
       "       'When did you write your first line of code?',\n",
       "       'Your favorite programming language?', 'Marital Status?',\n",
       "       'Are you Vaccinated?', 'Where do you live?',\n",
       "       'Research/Working experience (Float/Int) years',\n",
       "       'Age (years)-Float/Int', 'Your Weight in kg? (float)',\n",
       "       'Height in cm? Freelancer- (Float)',\n",
       "       'How many hours you code a day? (int) e.g: 5,4,3',\n",
       "       'Light kitni der band hti hy? int'],\n",
       "      dtype='object')"
      ]
     },
     "execution_count": 16,
     "metadata": {},
     "output_type": "execute_result"
    }
   ],
   "source": [
    "df.keys()"
   ]
  },
  {
   "cell_type": "code",
   "execution_count": 17,
   "id": "entire-saver",
   "metadata": {},
   "outputs": [
    {
     "data": {
      "text/plain": [
       "<AxesSubplot:xlabel='Gender', ylabel='Your Weight in kg? (float)'>"
      ]
     },
     "execution_count": 17,
     "metadata": {},
     "output_type": "execute_result"
    },
    {
     "data": {
      "image/png": "[encoded data removed]",
      "text/plain": [
       "<Figure size 432x288 with 1 Axes>"
      ]
     },
     "metadata": {},
     "output_type": "display_data"
    }
   ],
   "source": [
    "import seaborn as sns \n",
    "sns.set(style='whitegrid')\n",
    "Chilla= pd.read_csv('Data/Chilla_data2.csv')\n",
    "sns.boxplot(x='Gender',y='Your Weight in kg? (float)',hue='Are you Vaccinated?',data=Chilla)\n"
   ]
  },
  {
   "cell_type": "code",
   "execution_count": 18,
   "id": "threatened-hollow",
   "metadata": {},
   "outputs": [
    {
     "data": {
      "text/html": [
       "<div>\n",
       "<style scoped>\n",
       "    .dataframe tbody tr th:only-of-type {\n",
       "        vertical-align: middle;\n",
       "    }\n",
       "\n",
       "    .dataframe tbody tr th {\n",
       "        vertical-align: top;\n",
       "    }\n",
       "\n",
       "    .dataframe thead th {\n",
       "        text-align: right;\n",
       "    }\n",
       "</style>\n",
       "<table border=\"1\" class=\"dataframe\">\n",
       "  <thead>\n",
       "    <tr style=\"text-align: right;\">\n",
       "      <th></th>\n",
       "      <th>Age (years)-Float/Int</th>\n",
       "      <th>Your Weight in kg? (float)</th>\n",
       "      <th>Height in cm? Freelancer- (Float)</th>\n",
       "      <th>How many hours you code a day? (int) e.g: 5,4,3</th>\n",
       "      <th>Light kitni der band hti hy? int</th>\n",
       "    </tr>\n",
       "  </thead>\n",
       "  <tbody>\n",
       "    <tr>\n",
       "      <th>count</th>\n",
       "      <td>375.000000</td>\n",
       "      <td>375.000000</td>\n",
       "      <td>375.000000</td>\n",
       "      <td>375.000000</td>\n",
       "      <td>375.000000</td>\n",
       "    </tr>\n",
       "    <tr>\n",
       "      <th>mean</th>\n",
       "      <td>27.576933</td>\n",
       "      <td>69.321147</td>\n",
       "      <td>162.679282</td>\n",
       "      <td>2.976027</td>\n",
       "      <td>3.618667</td>\n",
       "    </tr>\n",
       "    <tr>\n",
       "      <th>std</th>\n",
       "      <td>7.224460</td>\n",
       "      <td>16.264434</td>\n",
       "      <td>172.246844</td>\n",
       "      <td>2.088115</td>\n",
       "      <td>7.407986</td>\n",
       "    </tr>\n",
       "    <tr>\n",
       "      <th>min</th>\n",
       "      <td>0.000000</td>\n",
       "      <td>7.000000</td>\n",
       "      <td>0.000000</td>\n",
       "      <td>0.000000</td>\n",
       "      <td>0.000000</td>\n",
       "    </tr>\n",
       "    <tr>\n",
       "      <th>25%</th>\n",
       "      <td>24.000000</td>\n",
       "      <td>58.050000</td>\n",
       "      <td>158.000000</td>\n",
       "      <td>2.000000</td>\n",
       "      <td>0.000000</td>\n",
       "    </tr>\n",
       "    <tr>\n",
       "      <th>50%</th>\n",
       "      <td>27.000000</td>\n",
       "      <td>68.300000</td>\n",
       "      <td>169.000000</td>\n",
       "      <td>3.000000</td>\n",
       "      <td>2.000000</td>\n",
       "    </tr>\n",
       "    <tr>\n",
       "      <th>75%</th>\n",
       "      <td>31.000000</td>\n",
       "      <td>78.500000</td>\n",
       "      <td>175.225000</td>\n",
       "      <td>4.000000</td>\n",
       "      <td>4.000000</td>\n",
       "    </tr>\n",
       "    <tr>\n",
       "      <th>max</th>\n",
       "      <td>90.000000</td>\n",
       "      <td>161.000000</td>\n",
       "      <td>1661.160000</td>\n",
       "      <td>18.000000</td>\n",
       "      <td>72.000000</td>\n",
       "    </tr>\n",
       "  </tbody>\n",
       "</table>\n",
       "</div>"
      ],
      "text/plain": [
       "       Age (years)-Float/Int  Your Weight in kg? (float)  \\\n",
       "count             375.000000                  375.000000   \n",
       "mean               27.576933                   69.321147   \n",
       "std                 7.224460                   16.264434   \n",
       "min                 0.000000                    7.000000   \n",
       "25%                24.000000                   58.050000   \n",
       "50%                27.000000                   68.300000   \n",
       "75%                31.000000                   78.500000   \n",
       "max                90.000000                  161.000000   \n",
       "\n",
       "       Height in cm? Freelancer- (Float)  \\\n",
       "count                         375.000000   \n",
       "mean                          162.679282   \n",
       "std                           172.246844   \n",
       "min                             0.000000   \n",
       "25%                           158.000000   \n",
       "50%                           169.000000   \n",
       "75%                           175.225000   \n",
       "max                          1661.160000   \n",
       "\n",
       "       How many hours you code a day? (int) e.g: 5,4,3  \\\n",
       "count                                       375.000000   \n",
       "mean                                          2.976027   \n",
       "std                                           2.088115   \n",
       "min                                           0.000000   \n",
       "25%                                           2.000000   \n",
       "50%                                           3.000000   \n",
       "75%                                           4.000000   \n",
       "max                                          18.000000   \n",
       "\n",
       "       Light kitni der band hti hy? int  \n",
       "count                        375.000000  \n",
       "mean                           3.618667  \n",
       "std                            7.407986  \n",
       "min                            0.000000  \n",
       "25%                            0.000000  \n",
       "50%                            2.000000  \n",
       "75%                            4.000000  \n",
       "max                           72.000000  "
      ]
     },
     "execution_count": 18,
     "metadata": {},
     "output_type": "execute_result"
    }
   ],
   "source": [
    "Chilla.describe()"
   ]
  },
  {
   "cell_type": "code",
   "execution_count": 19,
   "id": "introductory-seventh",
   "metadata": {},
   "outputs": [
    {
     "data": {
      "text/plain": [
       "<AxesSubplot:xlabel='Your Weight in kg? (float)', ylabel='Gender'>"
      ]
     },
     "execution_count": 19,
     "metadata": {},
     "output_type": "execute_result"
    },
    {
     "data": {
      "image/png": "[encoded data removed]",
      "text/plain": [
       "<Figure size 432x288 with 1 Axes>"
      ]
     },
     "metadata": {},
     "output_type": "display_data"
    }
   ],
   "source": [
    "import seaborn as sns \n",
    "sns.set(style='whitegrid')\n",
    "Chilla= pd.read_csv('Data/Chilla_data2.csv')\n",
    "my_pal= {'Yes':'g','No':'r'}\n",
    "sns.boxplot(x='Your Weight in kg? (float)',y='Gender',hue='Marital Status?',data=Chilla,palette=my_pal)\n"
   ]
  },
  {
   "cell_type": "markdown",
   "id": "unlike-birth",
   "metadata": {},
   "source": [
    "### Save plots in python "
   ]
  },
  {
   "cell_type": "code",
   "execution_count": 20,
   "id": "monthly-simon",
   "metadata": {},
   "outputs": [
    {
     "data": {
      "image/png": "[encoded data removed]",
      "text/plain": [
       "<Figure size 432x288 with 1 Axes>"
      ]
     },
     "metadata": {},
     "output_type": "display_data"
    }
   ],
   "source": [
    "import seaborn as sns \n",
    "import matplotlib.pyplot as plt\n",
    "sns.set(style='whitegrid')\n",
    "Chilla= pd.read_csv('Data/Chilla_data2.csv')\n",
    "my_pal= {'Yes':'g','No':'r'}\n",
    "sns.boxplot(x='Your Weight in kg? (float)',y='Gender',hue='Marital Status?',data=Chilla,palette=my_pal)\n",
    "plt.savefig('plot.tiff',dpi=300,bbox_inches='tight')"
   ]
  },
  {
   "cell_type": "code",
   "execution_count": null,
   "id": "sized-regard",
   "metadata": {},
   "outputs": [],
   "source": []
  },
  {
   "cell_type": "code",
   "execution_count": null,
   "id": "deluxe-grant",
   "metadata": {},
   "outputs": [],
   "source": []
  },
  {
   "cell_type": "code",
   "execution_count": null,
   "id": "requested-disclosure",
   "metadata": {},
   "outputs": [],
   "source": []
  }
 ],
 "metadata": {
  "kernelspec": {
   "display_name": "Python 3",
   "language": "python",
   "name": "python3"
  },
  "language_info": {
   "codemirror_mode": {
    "name": "ipython",
    "version": 3
   },
   "file_extension": ".py",
   "mimetype": "text/x-python",
   "name": "python",
   "nbconvert_exporter": "python",
   "pygments_lexer": "ipython3",
   "version": "3.8.5"
  }
 },
 "nbformat": 4,
 "nbformat_minor": 5
}
