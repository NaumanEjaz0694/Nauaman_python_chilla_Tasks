{
 "cells": [
  {
   "cell_type": "markdown",
   "id": "emerging-appearance",
   "metadata": {},
   "source": [
    "# This is my first Programming in Chilla with Baba Ammar\n",
    "## Learnign Python from very Basics\n"
   ]
  },
  {
   "cell_type": "markdown",
   "id": "brazilian-skill",
   "metadata": {},
   "source": [
    "# My first Programming"
   ]
  },
  {
   "cell_type": "code",
   "execution_count": 1,
   "id": "literary-forest",
   "metadata": {},
   "outputs": [
    {
     "name": "stdout",
     "output_type": "stream",
     "text": [
      "5\n",
      "Hello to World\n",
      "We are learning python with Ammar\n"
     ]
    }
   ],
   "source": [
    "\n",
    "print(2+3)\n",
    "print('Hello to World')\n",
    "print('We are learning python with Ammar')\n"
   ]
  },
  {
   "cell_type": "markdown",
   "id": "ordinary-whole",
   "metadata": {},
   "source": [
    "#  Operators"
   ]
  },
  {
   "cell_type": "code",
   "execution_count": 2,
   "id": "alike-gibson",
   "metadata": {},
   "outputs": [
    {
     "name": "stdout",
     "output_type": "stream",
     "text": [
      "5\n",
      "2\n",
      "3.5\n",
      "12\n",
      "3\n",
      "1\n",
      "8\n",
      "30.8\n"
     ]
    }
   ],
   "source": [
    "print(2+3) # Addition \n",
    "print(3-1) # Subtraction \n",
    "print(7/2) # Divison\n",
    "print(4*3) # Multiplicatoin \n",
    "print(7//2) # Quotient\n",
    "print(7%2) # Reminder\n",
    "print(2**3) # Power or Exponent\n",
    "print(3**2/5-6+7*5) #BDMAS RULE"
   ]
  },
  {
   "cell_type": "markdown",
   "id": "stylish-riding",
   "metadata": {},
   "source": [
    "# Strings"
   ]
  },
  {
   "cell_type": "code",
   "execution_count": 3,
   "id": "designed-nightlife",
   "metadata": {},
   "outputs": [
    {
     "name": "stdout",
     "output_type": "stream",
     "text": [
      "Hello to World\n",
      "We are learning python with Ammar\n",
      "print for single quotation\n",
      "use of  double quotation \n",
      "use of triple quotation\n",
      "  what's up   ?\n"
     ]
    }
   ],
   "source": [
    "\n",
    "print('Hello to World')\n",
    "print('We are learning python with Ammar')\n",
    "print('print for single quotation')\n",
    "print(\"use of  double quotation \")\n",
    "print('''use of triple quotation''')\n",
    "print(\"  what's up   ?\")"
   ]
  },
  {
   "cell_type": "markdown",
   "id": "seasonal-hamilton",
   "metadata": {},
   "source": [
    "# Comments"
   ]
  },
  {
   "cell_type": "code",
   "execution_count": 4,
   "id": "arranged-grave",
   "metadata": {},
   "outputs": [
    {
     "name": "stdout",
     "output_type": "stream",
     "text": [
      "How are you\n",
      " We are learning with Ammar\n",
      "9\n"
     ]
    }
   ],
   "source": [
    "print('How are you')             #ctrl+/ is used to convert code to comment\n",
    "print(\" We are learning with Ammar\")  #this is used for print a string\n",
    "print(2+7)    # This is used for using a operator on numbers"
   ]
  },
  {
   "cell_type": "markdown",
   "id": "rising-marble",
   "metadata": {},
   "source": [
    "# Varaible "
   ]
  },
  {
   "cell_type": "code",
   "execution_count": 5,
   "id": "rolled-johnston",
   "metadata": {},
   "outputs": [
    {
     "name": "stdout",
     "output_type": "stream",
     "text": [
      "15\n",
      "2\n",
      "Python Course with Ammar\n",
      "Mangoes and Oranges\n",
      "<class 'str'>\n"
     ]
    }
   ],
   "source": [
    "# Varaible mean Assigning values \n",
    "x=15\n",
    "y=2\n",
    "z=\"Python Course with Ammar\"\n",
    "print(x)\n",
    "print(y)\n",
    "print(z)\n",
    "fruit_basket = \"Mangoes and Oranges\"\n",
    "print(fruit_basket)\n",
    "print(type(fruit_basket))"
   ]
  },
  {
   "cell_type": "markdown",
   "id": "fourth-diesel",
   "metadata": {},
   "source": [
    "# Important Rules for writing Varaibles\n",
    "### Rules to Assign a Variable\n",
    "### The varabile should contain letters, numbers or underscores\n",
    "###  Do not start with numbers\n",
    "### Spaces are not allowed\n",
    "### Do not use keywords used in funtions( break , mean , media ,test etc.)\n",
    "### Short and descriptive\n",
    "### Case senstivity (Lowercase, uppercase letters lower case letters shoud be used)\n",
    " "
   ]
  },
  {
   "cell_type": "markdown",
   "id": "bulgarian-taste",
   "metadata": {},
   "source": [
    "# Input Variables"
   ]
  },
  {
   "cell_type": "code",
   "execution_count": 6,
   "id": "polar-honey",
   "metadata": {},
   "outputs": [
    {
     "name": "stdout",
     "output_type": "stream",
     "text": [
      "Mangoes\n"
     ]
    },
    {
     "name": "stdin",
     "output_type": "stream",
     "text": [
      "Which is your favourite fruit ? Mangoes\n"
     ]
    },
    {
     "name": "stdout",
     "output_type": "stream",
     "text": [
      "Mangoes\n"
     ]
    },
    {
     "name": "stdin",
     "output_type": "stream",
     "text": [
      "What is your name? Nauman\n"
     ]
    },
    {
     "name": "stdout",
     "output_type": "stream",
     "text": [
      "Hello Nauman\n"
     ]
    },
    {
     "name": "stdin",
     "output_type": "stream",
     "text": [
      "What is your name? Nauman Ejaz\n",
      "How old are you? 27\n"
     ]
    },
    {
     "name": "stdout",
     "output_type": "stream",
     "text": [
      "Assalam o Alaikum Nauman Ejaz 27  You are still young\n"
     ]
    }
   ],
   "source": [
    "fruit_basket= \"Mangoes\"\n",
    "print (fruit_basket)\n",
    "\n",
    " \n",
    " # Input Function \n",
    "fruit_basket=input(\"Which is your favourite fruit ?\")\n",
    "print(fruit_basket)\n",
    "\n",
    "# INput Function of second stage\n",
    "name =input (\"What is your name?\")\n",
    "\n",
    "print (\"Hello\", name)\n",
    "name = input('What is your name?')\n",
    "age = input(\"How old are you?\")\n",
    "greetings = \"Assalam o Alaikum\"\n",
    "\n",
    "print(greetings,name,age, \" You are still young\")"
   ]
  },
  {
   "cell_type": "markdown",
   "id": "buried-insured",
   "metadata": {},
   "source": [
    "# Conditional Logic"
   ]
  },
  {
   "cell_type": "code",
   "execution_count": 7,
   "id": "cordless-volleyball",
   "metadata": {},
   "outputs": [
    {
     "name": "stdout",
     "output_type": "stream",
     "text": [
      "True\n",
      "False\n",
      "True\n",
      "True\n",
      "True\n",
      "True\n",
      "False\n"
     ]
    },
    {
     "name": "stdin",
     "output_type": "stream",
     "text": [
      "How old is salman? 4\n"
     ]
    },
    {
     "name": "stdout",
     "output_type": "stream",
     "text": [
      "False\n"
     ]
    }
   ],
   "source": [
    "# equat to                           ==\n",
    "# Not equatl to                      !=\n",
    "# less than                          <\n",
    "# greater than                       >\n",
    "# less than and equal to             <=\n",
    "# greater than and equal to          >=\n",
    "\n",
    "#Is 4 equal to 4 \n",
    "print(4==4)\n",
    "print(4!=4)\n",
    "print(4>3)\n",
    "print(4>=3)\n",
    "print(3<=4)\n",
    "print(8<=10)\n",
    "print(10<=3)\n",
    "\n",
    "#Input function and logical operator\n",
    " \n",
    "school_admission_age = 5\n",
    "salman_age = input(\"How old is salman?\")  #input function \n",
    "salman_age=int(salman_age)\n",
    "print(salman_age==school_admission_age)  # Logical Operator5"
   ]
  },
  {
   "cell_type": "markdown",
   "id": "separated-default",
   "metadata": {},
   "source": [
    "# Conversion Type"
   ]
  },
  {
   "cell_type": "code",
   "execution_count": 8,
   "id": "designing-solomon",
   "metadata": {},
   "outputs": [
    {
     "name": "stdout",
     "output_type": "stream",
     "text": [
      "<class 'int'>\n",
      "<class 'float'>\n",
      "<class 'str'>\n",
      "<class 'float'>\n",
      "25\n",
      "<class 'float'>\n"
     ]
    },
    {
     "name": "stdin",
     "output_type": "stream",
     "text": [
      "what is your age? 27\n"
     ]
    },
    {
     "name": "stdout",
     "output_type": "stream",
     "text": [
      "<class 'int'>\n",
      "27 <class 'int'>\n"
     ]
    }
   ],
   "source": [
    "x=25\n",
    "y=25.67\n",
    "z= \"Hello \"\n",
    "print(type(x))\n",
    "\n",
    "print(type(y))\n",
    "\n",
    "print(type(z))\n",
    "# Implicit type of Conversion \n",
    "x=x*y                           # It is simple mathematics any number multiply with float become float\n",
    "print(type(x))\n",
    "\n",
    "print(int(y)) # How to convert float to integer\n",
    "print(type(x+y))\n",
    "\n",
    "# # Implicit type of Conversion \n",
    "age=input(\"what is your age?\")\n",
    "age=int(age)\n",
    "print(type(age))\n",
    "print(age, type(int(age)))\n",
    "\n"
   ]
  },
  {
   "cell_type": "markdown",
   "id": "painted-reynolds",
   "metadata": {},
   "source": [
    "# IF_Elif and ELSE Statements"
   ]
  },
  {
   "cell_type": "code",
   "execution_count": 9,
   "id": "innovative-smart",
   "metadata": {},
   "outputs": [
    {
     "name": "stdout",
     "output_type": "stream",
     "text": [
      "You should take care of Ajala, he is still a baby\n",
      "Ajlal marks has very low\n"
     ]
    }
   ],
   "source": [
    "required_age_at_school =5\n",
    "ajlal_age= 2\n",
    "\n",
    "# Question can Ajlal goes to school\n",
    "if ajlal_age==required_age_at_school:\n",
    "    print(\"Congragulation ! Ajlal can join the school\")\n",
    "elif ajlal_age > required_age_at_school:\n",
    "     print( \"Sorry ,Ajlal should join higher secondary shcool\")\n",
    "elif ajlal_age <=2:\n",
    "    print(\"You should take care of Ajala, he is still a baby\")\n",
    "else :\n",
    "    print(\"ajlal cannot go to school\")\n",
    "    # Type elip and if  with out the colon \n",
    "    #else with colon\n",
    "    #For Grading at School\n",
    "    \n",
    "    A_grade=90\n",
    "B_grade=80\n",
    "ajlal_marks=70\n",
    "if ajlal_marks==90:\n",
    "    print(\"Ajlal has A grade\")\n",
    "elif ajlal_marks > 90:\n",
    "    print(\"Ajlal has A+1 grade\")\n",
    "else:\n",
    "    print(\"Ajlal marks has very low\")"
   ]
  },
  {
   "cell_type": "markdown",
   "id": "adolescent-retrieval",
   "metadata": {},
   "source": [
    "# Funtions"
   ]
  },
  {
   "cell_type": "code",
   "execution_count": 10,
   "id": "approved-catalog",
   "metadata": {},
   "outputs": [
    {
     "name": "stdout",
     "output_type": "stream",
     "text": [
      "we are learning with Ammar\n",
      "we are learning with Ammar\n",
      "we are learning with Ammar\n",
      "we are learning with Ammar\n",
      "we are learning with Ammar from youtube channel\n",
      "we are learning with Ammar from youtube channel\n",
      "we are learning with Ammar from youtube channel\n",
      " We are learning with Ammar from codanics\n",
      " We are learning with Ammar from codanics\n",
      " We are learning with Ammar from codanics\n",
      " we are learning python \n",
      " we are learning python \n",
      " we are learning python \n",
      "Ajlal is still a baby\n",
      "32\n"
     ]
    }
   ],
   "source": [
    "print(\"we are learning with Ammar\")\n",
    "print(\"we are learning with Ammar\")\n",
    "print(\"we are learning with Ammar\")\n",
    "print(\"we are learning with Ammar\")\n",
    "#1\n",
    "def print_codanics():\n",
    "    print(\"we are learning with Ammar from youtube channel\")\n",
    "    print(\"we are learning with Ammar from youtube channel\")\n",
    "    print(\"we are learning with Ammar from youtube channel\")\n",
    "print_codanics()\n",
    "#2\n",
    "def print_codanics():\n",
    "    text = \" We are learning with Ammar from codanics\"\n",
    "    print(text)\n",
    "    print(text)\n",
    "    print(text)\n",
    "print_codanics()\n",
    "\n",
    "#3\n",
    "def print_codanics(text):\n",
    "    print(text)\n",
    "    print(text)\n",
    "    print(text)\n",
    "\n",
    "print_codanics(\" we are learning python \")\n",
    "\n",
    "#defining a function with if, elif and else statements\n",
    "def school_calculator(age,text):\n",
    "    if age==5:\n",
    "        print(\"Ajlal can join the school\")\n",
    "    elif age >5:\n",
    "        print(\"Ajlal can go to higher school\")\n",
    "    else: \n",
    "        print(\"Ajlal is still a baby\")\n",
    "\n",
    "school_calculator(2,\"Ajlal\")\n",
    "# Machine learning Alograthim for Future age calculation\n",
    "def future_age(age):\n",
    "    newage=age+27\n",
    "    return newage\n",
    "    print(newage)\n",
    "\n",
    "future_predicted_age=future_age(5)\n",
    "print(future_predicted_age)\n",
    "\n",
    "    "
   ]
  },
  {
   "cell_type": "markdown",
   "id": "completed-delivery",
   "metadata": {},
   "source": [
    "# Loops"
   ]
  },
  {
   "cell_type": "code",
   "execution_count": 11,
   "id": "imported-prerequisite",
   "metadata": {},
   "outputs": [
    {
     "name": "stdout",
     "output_type": "stream",
     "text": [
      "0\n",
      "1\n",
      "2\n",
      "3\n",
      "4\n"
     ]
    }
   ],
   "source": [
    "#While Loop\n",
    "x=0\n",
    "while (x<5):\n",
    "    print(x)\n",
    "    x=x+1\n"
   ]
  },
  {
   "cell_type": "code",
   "execution_count": 13,
   "id": "every-credits",
   "metadata": {},
   "outputs": [
    {
     "name": "stdout",
     "output_type": "stream",
     "text": [
      "0\n",
      "1\n",
      "2\n",
      "3\n",
      "4\n",
      "5\n",
      "4\n",
      "5\n",
      "6\n",
      "7\n",
      "8\n",
      "9\n",
      "10\n",
      "Mon\n",
      "Tue\n",
      "wed\n",
      "Thur\n",
      "Mon\n",
      "Tue\n",
      "wed\n",
      "Thur\n",
      "Sat\n",
      "Sun\n"
     ]
    }
   ],
   "source": [
    "x=0\n",
    "while (x<=5):\n",
    "    print(x)\n",
    "    x=x+1\n",
    "    # FOr loop\n",
    "for x in range (4,11): \n",
    "    print(x)\n",
    "    \n",
    "    # FOr break between the loop\n",
    "\n",
    "    days =['Mon','Tue','wed','Thur','Fri','Sat','Sun']\n",
    "for d in days:\n",
    "    if(d=='Fri'):break\n",
    "    print(d)\n",
    "    \n",
    "     # For skip \n",
    "days =['Mon','Tue','wed','Thur','Fri','Sat','Sun']\n",
    "for d in days:\n",
    "    if(d=='Fri'):continue\n",
    "    print(d)\n"
   ]
  },
  {
   "cell_type": "markdown",
   "id": "available-honolulu",
   "metadata": {},
   "source": [
    "# Important Libraries"
   ]
  },
  {
   "cell_type": "code",
   "execution_count": 14,
   "id": "compound-wellington",
   "metadata": {},
   "outputs": [
    {
     "name": "stdout",
     "output_type": "stream",
     "text": [
      "The value of pi is 3.141592653589793\n",
      "329.8\n",
      "312.42863826858263\n"
     ]
    }
   ],
   "source": [
    "# Import Libraries\n",
    "import math\n",
    "print(\"The value of pi is\",math.pi)\n",
    "import statistics\n",
    "x=[250,270,257,572,300]\n",
    "print(statistics.mean(x))\n",
    "print(statistics.geometric_mean(x))"
   ]
  },
  {
   "cell_type": "markdown",
   "id": "fifty-spouse",
   "metadata": {},
   "source": [
    "# Trouble shooting"
   ]
  },
  {
   "cell_type": "markdown",
   "id": "suspected-problem",
   "metadata": {},
   "source": [
    "### print(We are learning with Ammar) # This is syntax Error\n",
    "### Put inverted Commmas\n",
    " print (\"We are learning with Ammar\")\n",
    "\n",
    "\n"
   ]
  },
  {
   "cell_type": "markdown",
   "id": "acoustic-desperate",
   "metadata": {},
   "source": [
    "## print (25/0) # Runtime error"
   ]
  },
  {
   "cell_type": "markdown",
   "id": "focal-ebony",
   "metadata": {},
   "source": [
    "name = \"Nauman\"\n",
    "# print(\"Hello name\")   # This is called symantic Error\n",
    "\n",
    "print (\"Hello\"+ name)"
   ]
  },
  {
   "cell_type": "code",
   "execution_count": null,
   "id": "matched-wallet",
   "metadata": {},
   "outputs": [],
   "source": []
  }
 ],
 "metadata": {
  "kernelspec": {
   "display_name": "Python 3",
   "language": "python",
   "name": "python3"
  },
  "language_info": {
   "codemirror_mode": {
    "name": "ipython",
    "version": 3
   },
   "file_extension": ".py",
   "mimetype": "text/x-python",
   "name": "python",
   "nbconvert_exporter": "python",
   "pygments_lexer": "ipython3",
   "version": "3.8.5"
  }
 },
 "nbformat": 4,
 "nbformat_minor": 5
}
