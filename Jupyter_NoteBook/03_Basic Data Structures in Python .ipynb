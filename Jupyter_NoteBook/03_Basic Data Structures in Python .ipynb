{
 "cells": [
  {
   "cell_type": "markdown",
   "id": "statistical-retailer",
   "metadata": {},
   "source": [
    "# Basic Data Structure in Python\n",
    "### Tuple\n",
    "### Dictionary\n",
    "### List\n",
    "### Set"
   ]
  },
  {
   "cell_type": "markdown",
   "id": "other-opposition",
   "metadata": {},
   "source": [
    "## 1- Tuple\n",
    "- Ordered Collection of elements.\n",
    "- Enclosed in Paranthesis.\n",
    "- Different kind of elements can be stored.\n",
    "- Once elements are stroed you cannot changed them."
   ]
  },
  {
   "cell_type": "code",
   "execution_count": 1,
   "id": "decent-matthew",
   "metadata": {},
   "outputs": [
    {
     "data": {
      "text/plain": [
       "(1, 'Python', True, 5.6)"
      ]
     },
     "execution_count": 1,
     "metadata": {},
     "output_type": "execute_result"
    }
   ],
   "source": [
    "tup1 =(1,\"Python\",True, 5.6)\n",
    "tup1"
   ]
  },
  {
   "cell_type": "code",
   "execution_count": 2,
   "id": "necessary-round",
   "metadata": {},
   "outputs": [
    {
     "data": {
      "text/plain": [
       "tuple"
      ]
     },
     "execution_count": 2,
     "metadata": {},
     "output_type": "execute_result"
    }
   ],
   "source": [
    "type(tup1)"
   ]
  },
  {
   "cell_type": "markdown",
   "id": "adapted-thesis",
   "metadata": {},
   "source": [
    "### - Indexing in Tuple"
   ]
  },
  {
   "cell_type": "code",
   "execution_count": 3,
   "id": "familiar-journalism",
   "metadata": {},
   "outputs": [
    {
     "data": {
      "text/plain": [
       "'Python'"
      ]
     },
     "execution_count": 3,
     "metadata": {},
     "output_type": "execute_result"
    }
   ],
   "source": [
    "tup1[1]"
   ]
  },
  {
   "cell_type": "code",
   "execution_count": 4,
   "id": "broadband-craft",
   "metadata": {},
   "outputs": [
    {
     "data": {
      "text/plain": [
       "1"
      ]
     },
     "execution_count": 4,
     "metadata": {},
     "output_type": "execute_result"
    }
   ],
   "source": [
    "tup1[0]"
   ]
  },
  {
   "cell_type": "code",
   "execution_count": 5,
   "id": "removed-constraint",
   "metadata": {},
   "outputs": [
    {
     "data": {
      "text/plain": [
       "True"
      ]
     },
     "execution_count": 5,
     "metadata": {},
     "output_type": "execute_result"
    }
   ],
   "source": [
    "tup1[2]"
   ]
  },
  {
   "cell_type": "code",
   "execution_count": 6,
   "id": "modern-trance",
   "metadata": {},
   "outputs": [
    {
     "data": {
      "text/plain": [
       "5.6"
      ]
     },
     "execution_count": 6,
     "metadata": {},
     "output_type": "execute_result"
    }
   ],
   "source": [
    "tup1[3]"
   ]
  },
  {
   "cell_type": "code",
   "execution_count": 7,
   "id": "rapid-spare",
   "metadata": {},
   "outputs": [
    {
     "data": {
      "text/plain": [
       "(1, 'Python', True, 5.6)"
      ]
     },
     "execution_count": 7,
     "metadata": {},
     "output_type": "execute_result"
    }
   ],
   "source": [
    "tup1[0:4]"
   ]
  },
  {
   "cell_type": "code",
   "execution_count": 8,
   "id": "humanitarian-melbourne",
   "metadata": {},
   "outputs": [
    {
     "data": {
      "text/plain": [
       "4"
      ]
     },
     "execution_count": 8,
     "metadata": {},
     "output_type": "execute_result"
    }
   ],
   "source": [
    "len (tup1)"
   ]
  },
  {
   "cell_type": "code",
   "execution_count": 9,
   "id": "guilty-hacker",
   "metadata": {},
   "outputs": [
    {
     "data": {
      "text/plain": [
       "(10, 'babaammar', 4.9, False)"
      ]
     },
     "execution_count": 9,
     "metadata": {},
     "output_type": "execute_result"
    }
   ],
   "source": [
    "tup2 = (10,\"babaammar\",4.9,False)\n",
    "tup2"
   ]
  },
  {
   "cell_type": "code",
   "execution_count": 10,
   "id": "controversial-hunter",
   "metadata": {},
   "outputs": [
    {
     "data": {
      "text/plain": [
       "(1, 'Python', True, 5.6, 10, 'babaammar', 4.9, False)"
      ]
     },
     "execution_count": 10,
     "metadata": {},
     "output_type": "execute_result"
    }
   ],
   "source": [
    "# Adding Tuple\n",
    "tup1+tup2"
   ]
  },
  {
   "cell_type": "code",
   "execution_count": 11,
   "id": "contemporary-undergraduate",
   "metadata": {},
   "outputs": [
    {
     "data": {
      "text/plain": [
       "(1, 'Python', True, 5.6, 1, 'Python', True, 5.6, 10, 'babaammar', 4.9, False)"
      ]
     },
     "execution_count": 11,
     "metadata": {},
     "output_type": "execute_result"
    }
   ],
   "source": [
    "# Multiplying Tuples\n",
    "tup1*2+tup2"
   ]
  },
  {
   "cell_type": "code",
   "execution_count": 12,
   "id": "theoretical-header",
   "metadata": {},
   "outputs": [
    {
     "data": {
      "text/plain": [
       "(20, 30, 40, 50, 60, 70, 80)"
      ]
     },
     "execution_count": 12,
     "metadata": {},
     "output_type": "execute_result"
    }
   ],
   "source": [
    "tup3=(20,30,40,50,60,70,80)\n",
    "tup3"
   ]
  },
  {
   "cell_type": "code",
   "execution_count": 13,
   "id": "indirect-assumption",
   "metadata": {},
   "outputs": [
    {
     "data": {
      "text/plain": [
       "20"
      ]
     },
     "execution_count": 13,
     "metadata": {},
     "output_type": "execute_result"
    }
   ],
   "source": [
    "min(tup3)"
   ]
  },
  {
   "cell_type": "code",
   "execution_count": 14,
   "id": "moving-canada",
   "metadata": {},
   "outputs": [
    {
     "data": {
      "text/plain": [
       "80"
      ]
     },
     "execution_count": 14,
     "metadata": {},
     "output_type": "execute_result"
    }
   ],
   "source": [
    "max(tup3)"
   ]
  },
  {
   "cell_type": "markdown",
   "id": "incomplete-underwear",
   "metadata": {},
   "source": [
    "---"
   ]
  },
  {
   "cell_type": "markdown",
   "id": "cardiovascular-syria",
   "metadata": {},
   "source": [
    "## 2- List\n",
    "- Ordered collection of elements.\n",
    "- Enclosed in square brackets or braces.\n",
    "- Mutateable, ( you can change it )."
   ]
  },
  {
   "cell_type": "code",
   "execution_count": 15,
   "id": "aggressive-instrument",
   "metadata": {},
   "outputs": [
    {
     "data": {
      "text/plain": [
       "[10, 'babaammar', 4.9, False]"
      ]
     },
     "execution_count": 15,
     "metadata": {},
     "output_type": "execute_result"
    }
   ],
   "source": [
    "list1 = [10,\"babaammar\",4.9,False]\n",
    "list1"
   ]
  },
  {
   "cell_type": "code",
   "execution_count": 16,
   "id": "aboriginal-aviation",
   "metadata": {},
   "outputs": [
    {
     "data": {
      "text/plain": [
       "list"
      ]
     },
     "execution_count": 16,
     "metadata": {},
     "output_type": "execute_result"
    }
   ],
   "source": [
    "type(list1)"
   ]
  },
  {
   "cell_type": "code",
   "execution_count": 17,
   "id": "worldwide-heaven",
   "metadata": {},
   "outputs": [
    {
     "data": {
      "text/plain": [
       "False"
      ]
     },
     "execution_count": 17,
     "metadata": {},
     "output_type": "execute_result"
    }
   ],
   "source": [
    "list1[3]"
   ]
  },
  {
   "cell_type": "code",
   "execution_count": 18,
   "id": "lonely-browser",
   "metadata": {},
   "outputs": [
    {
     "data": {
      "text/plain": [
       "[3, 5, 'Ammar', 'Codanics', 479, 23.46, True]"
      ]
     },
     "execution_count": 18,
     "metadata": {},
     "output_type": "execute_result"
    }
   ],
   "source": [
    "list2=[3,5,\"Ammar\",\"Codanics\",479,23.46,True]\n",
    "list2"
   ]
  },
  {
   "cell_type": "code",
   "execution_count": 19,
   "id": "european-sensitivity",
   "metadata": {},
   "outputs": [
    {
     "data": {
      "text/plain": [
       "[10, 'babaammar', 4.9, False, 3, 5, 'Ammar', 'Codanics', 479, 23.46, True]"
      ]
     },
     "execution_count": 19,
     "metadata": {},
     "output_type": "execute_result"
    }
   ],
   "source": [
    "list1+list2"
   ]
  },
  {
   "cell_type": "code",
   "execution_count": 20,
   "id": "handled-sustainability",
   "metadata": {},
   "outputs": [
    {
     "data": {
      "text/plain": [
       "[10, 'babaammar', 4.9, False, 10, 'babaammar', 4.9, False]"
      ]
     },
     "execution_count": 20,
     "metadata": {},
     "output_type": "execute_result"
    }
   ],
   "source": [
    "list1*2"
   ]
  },
  {
   "cell_type": "code",
   "execution_count": 21,
   "id": "noticed-topic",
   "metadata": {},
   "outputs": [
    {
     "data": {
      "text/plain": [
       "[False, 4.9, 'babaammar', 10]"
      ]
     },
     "execution_count": 21,
     "metadata": {},
     "output_type": "execute_result"
    }
   ],
   "source": [
    "# To Reverse the list\n",
    "list1.reverse()\n",
    "list1"
   ]
  },
  {
   "cell_type": "code",
   "execution_count": 22,
   "id": "little-chorus",
   "metadata": {},
   "outputs": [
    {
     "data": {
      "text/plain": [
       "[False, 4.9, 'babaammar', 10, 'Codanics Youtube Channel']"
      ]
     },
     "execution_count": 22,
     "metadata": {},
     "output_type": "execute_result"
    }
   ],
   "source": [
    "list1.append(\"Codanics Youtube Channel\")\n",
    "list1"
   ]
  },
  {
   "cell_type": "code",
   "execution_count": 23,
   "id": "valuable-louis",
   "metadata": {},
   "outputs": [
    {
     "data": {
      "text/plain": [
       "[20, 160, 90, 50, 263, 370, 800]"
      ]
     },
     "execution_count": 23,
     "metadata": {},
     "output_type": "execute_result"
    }
   ],
   "source": [
    "list3=[20,160,90,50,263,370,800]\n",
    "list3"
   ]
  },
  {
   "cell_type": "code",
   "execution_count": 24,
   "id": "auburn-crest",
   "metadata": {},
   "outputs": [
    {
     "data": {
      "text/plain": [
       "[20, 50, 90, 160, 263, 370, 800]"
      ]
     },
     "execution_count": 24,
     "metadata": {},
     "output_type": "execute_result"
    }
   ],
   "source": [
    "list3.sort()\n",
    "list3"
   ]
  },
  {
   "cell_type": "code",
   "execution_count": 25,
   "id": "baking-swaziland",
   "metadata": {},
   "outputs": [
    {
     "data": {
      "text/plain": [
       "[20, 50, 90, 160, 263, 370, 800, 20, 50, 90, 160, 263, 370, 800]"
      ]
     },
     "execution_count": 25,
     "metadata": {},
     "output_type": "execute_result"
    }
   ],
   "source": [
    "list3*2"
   ]
  },
  {
   "cell_type": "markdown",
   "id": "linear-words",
   "metadata": {},
   "source": [
    "## 3- Dictionaries\n",
    "- Unordered Collection of Elements\n",
    "- Key and Values\n",
    "- Curly { }, square [ ], Paranthesis ( )\n",
    "- Mutateble"
   ]
  },
  {
   "cell_type": "code",
   "execution_count": 26,
   "id": "severe-support",
   "metadata": {},
   "outputs": [
    {
     "name": "stdout",
     "output_type": "stream",
     "text": [
      "{'First Name': 'Nauman', 'Last Name': 'Ejaz', 'Age': 27}\n"
     ]
    }
   ],
   "source": [
    "d1 = {'First Name':'Nauman','Last Name': 'Ejaz','Age':27}\n",
    "print(d1)"
   ]
  },
  {
   "cell_type": "code",
   "execution_count": 27,
   "id": "adjustable-combination",
   "metadata": {},
   "outputs": [
    {
     "data": {
      "text/plain": [
       "'Nauman'"
      ]
     },
     "execution_count": 27,
     "metadata": {},
     "output_type": "execute_result"
    }
   ],
   "source": [
    "d1[\"First Name\"]"
   ]
  },
  {
   "cell_type": "code",
   "execution_count": 28,
   "id": "pharmaceutical-knife",
   "metadata": {},
   "outputs": [
    {
     "data": {
      "text/plain": [
       "'Ejaz'"
      ]
     },
     "execution_count": 28,
     "metadata": {},
     "output_type": "execute_result"
    }
   ],
   "source": [
    "d1[\"Last Name\"]"
   ]
  },
  {
   "cell_type": "code",
   "execution_count": 29,
   "id": "coastal-insurance",
   "metadata": {},
   "outputs": [
    {
     "data": {
      "text/plain": [
       "27"
      ]
     },
     "execution_count": 29,
     "metadata": {},
     "output_type": "execute_result"
    }
   ],
   "source": [
    "d1[\"Age\"]"
   ]
  },
  {
   "cell_type": "code",
   "execution_count": 30,
   "id": "going-ballot",
   "metadata": {},
   "outputs": [
    {
     "data": {
      "text/plain": [
       "dict_keys(['First Name', 'Last Name', 'Age'])"
      ]
     },
     "execution_count": 30,
     "metadata": {},
     "output_type": "execute_result"
    }
   ],
   "source": [
    "d1.keys()"
   ]
  },
  {
   "cell_type": "code",
   "execution_count": 31,
   "id": "geological-parish",
   "metadata": {},
   "outputs": [
    {
     "data": {
      "text/plain": [
       "dict_values(['Nauman', 'Ejaz', 27])"
      ]
     },
     "execution_count": 31,
     "metadata": {},
     "output_type": "execute_result"
    }
   ],
   "source": [
    "d1.values()"
   ]
  },
  {
   "cell_type": "code",
   "execution_count": 32,
   "id": "fresh-vancouver",
   "metadata": {},
   "outputs": [
    {
     "data": {
      "text/plain": [
       "dict"
      ]
     },
     "execution_count": 32,
     "metadata": {},
     "output_type": "execute_result"
    }
   ],
   "source": [
    "type(d1)"
   ]
  },
  {
   "cell_type": "code",
   "execution_count": 33,
   "id": "global-underground",
   "metadata": {},
   "outputs": [
    {
     "data": {
      "text/plain": [
       "{'First Name': 'Nauman',\n",
       " 'Last Name': 'Ejaz',\n",
       " 'Age': 27,\n",
       " 'Education': 'Master in Hydrology and Water Resources'}"
      ]
     },
     "execution_count": 33,
     "metadata": {},
     "output_type": "execute_result"
    }
   ],
   "source": [
    "d1[\"Education\"]=\"Master in Hydrology and Water Resources\"\n",
    "d1\n"
   ]
  },
  {
   "cell_type": "code",
   "execution_count": 34,
   "id": "foreign-costs",
   "metadata": {},
   "outputs": [
    {
     "data": {
      "text/plain": [
       "{'Communication Skills': 'good',\n",
       " 'IELETS': 'Already Expire',\n",
       " 'CGPA': 4.5,\n",
       " 'Overall GPA': 5.0}"
      ]
     },
     "execution_count": 34,
     "metadata": {},
     "output_type": "execute_result"
    }
   ],
   "source": [
    "d2={'Communication Skills':'good',\"IELETS\":'Already Expire',\"CGPA\":4.5,\"Overall GPA\":5.0}\n",
    "d2\n",
    "            "
   ]
  },
  {
   "cell_type": "code",
   "execution_count": 35,
   "id": "leading-return",
   "metadata": {},
   "outputs": [
    {
     "data": {
      "text/plain": [
       "{'First Name': 'Nauman',\n",
       " 'Last Name': 'Ejaz',\n",
       " 'Age': 27,\n",
       " 'Education': 'Master in Hydrology and Water Resources',\n",
       " 'Communication Skills': 'good',\n",
       " 'IELETS': 'Already Expire',\n",
       " 'CGPA': 4.5,\n",
       " 'Overall GPA': 5.0}"
      ]
     },
     "execution_count": 35,
     "metadata": {},
     "output_type": "execute_result"
    }
   ],
   "source": [
    "#Concatinate or Adding Two Dictonaries.\n",
    "# This is not like Tuple and list in this you have two use update funtion \n",
    "d1.update(d2)\n",
    "d1"
   ]
  },
  {
   "cell_type": "markdown",
   "id": "thorough-white",
   "metadata": {},
   "source": [
    "## 4- Set\n",
    "- Unordered collection of elements.\n",
    "- curly { } brackets are used.\n",
    "- No dublicated allowed\n",
    "- Boolen operators will not print.\n",
    "\n"
   ]
  },
  {
   "cell_type": "code",
   "execution_count": 36,
   "id": "north-default",
   "metadata": {},
   "outputs": [
    {
     "data": {
      "text/plain": [
       "{1, 2.1, 5.2, 'Ammar', 'Codanics', 'Germany'}"
      ]
     },
     "execution_count": 36,
     "metadata": {},
     "output_type": "execute_result"
    }
   ],
   "source": [
    "s1={1,2.1,5.2,\"Ammar\", \"Codanics\",\"Germany\",True}\n",
    "s1"
   ]
  },
  {
   "cell_type": "code",
   "execution_count": 37,
   "id": "olive-prerequisite",
   "metadata": {},
   "outputs": [
    {
     "data": {
      "text/plain": [
       "{1, 2.1, 5.2, 'Ammar', 'Codanics', 'Germany', 'Tufail'}"
      ]
     },
     "execution_count": 37,
     "metadata": {},
     "output_type": "execute_result"
    }
   ],
   "source": [
    "s1.add(\"Tufail\")\n",
    "s1"
   ]
  },
  {
   "cell_type": "code",
   "execution_count": 38,
   "id": "sublime-circumstances",
   "metadata": {},
   "outputs": [
    {
     "data": {
      "text/plain": [
       "{1, 2.1, 5.2, 'Ammar', 'Codanics', 'Germany', 'Tufail'}"
      ]
     },
     "execution_count": 38,
     "metadata": {},
     "output_type": "execute_result"
    }
   ],
   "source": [
    "s1.add(\"Ammar\")\n",
    "s1"
   ]
  },
  {
   "cell_type": "code",
   "execution_count": 39,
   "id": "documentary-michael",
   "metadata": {},
   "outputs": [],
   "source": [
    "# Set will not accept duplicate."
   ]
  },
  {
   "cell_type": "code",
   "execution_count": null,
   "id": "irish-grocery",
   "metadata": {},
   "outputs": [],
   "source": []
  },
  {
   "cell_type": "code",
   "execution_count": null,
   "id": "perceived-consideration",
   "metadata": {},
   "outputs": [],
   "source": []
  },
  {
   "cell_type": "code",
   "execution_count": null,
   "id": "finnish-desperate",
   "metadata": {},
   "outputs": [],
   "source": []
  },
  {
   "cell_type": "code",
   "execution_count": null,
   "id": "lesser-matter",
   "metadata": {},
   "outputs": [],
   "source": []
  }
 ],
 "metadata": {
  "kernelspec": {
   "display_name": "Python 3",
   "language": "python",
   "name": "python3"
  },
  "language_info": {
   "codemirror_mode": {
    "name": "ipython",
    "version": 3
   },
   "file_extension": ".py",
   "mimetype": "text/x-python",
   "name": "python",
   "nbconvert_exporter": "python",
   "pygments_lexer": "ipython3",
   "version": "3.8.5"
  }
 },
 "nbformat": 4,
 "nbformat_minor": 5
}
